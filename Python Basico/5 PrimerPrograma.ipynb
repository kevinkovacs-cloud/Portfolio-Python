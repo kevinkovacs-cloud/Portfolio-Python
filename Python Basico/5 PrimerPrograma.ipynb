{
 "cells": [
  {
   "cell_type": "markdown",
   "metadata": {},
   "source": [
    "# Python: Basico 5\n",
    "En este documento de Jupyter Notebook haremos nuestro primer programa. "
   ]
  },
  {
   "cell_type": "markdown",
   "metadata": {},
   "source": [
    "Tratara sobre testear numeros primos. La caracteristica de estos numeros es que no son divisibles por ningun otro entero. Solo es divisible por 1 y por si mismo (con el resto 0). Ejemplo: 2, 3, 5. "
   ]
  },
  {
   "cell_type": "code",
   "execution_count": 1,
   "metadata": {},
   "outputs": [
    {
     "name": "stdout",
     "output_type": "stream",
     "text": [
      "[2, 3, 5, 7, 11, 13, 17, 19, 23, 29, 31, 37, 41, 43, 47, 53, 59, 61, 67, 71, 73, 79, 83, 89, 97, 101, 103, 107, 109, 113, 127, 131, 137, 139, 149, 151, 157, 163, 167, 173, 179, 181, 191, 193, 197, 199, 211, 223, 227, 229, 233, 239, 241, 251, 257, 263, 269, 271, 277, 281, 283, 293, 307, 311, 313, 317, 331, 337, 347, 349, 353, 359, 367, 373, 379, 383, 389, 397, 401, 409, 419, 421, 431, 433, 439, 443, 449, 457, 461, 463, 467, 479, 487, 491, 499, 503, 509, 521, 523, 541]\n"
     ]
    }
   ],
   "source": [
    "total = 100\n",
    "resultado = [] #lista vacia\n",
    "n = 2 #para testear\n",
    "i = 0 #cuenta para saber cuantos numeros primos ya metimos en la lista hasta 100, ahi deja de contar.\n",
    "while i < total:\n",
    "    j = 0\n",
    "    while j < len(resultado) and n % resultado[j] != 0: #si seria igual a cero NO SERIA PRIMO\n",
    "        j += 1 #que pase al siguiente numero en la lista\n",
    "    \n",
    "    if j == len(resultado):\n",
    "        resultado.append(n) #que agregue el numero primo que encontramos\n",
    "        i += 1\n",
    "    \n",
    "    n += 1\n",
    "\n",
    "print(resultado)"
   ]
  },
  {
   "cell_type": "markdown",
   "metadata": {},
   "source": [
    "Otra forma de hacerlo, mas convencional. Utiliza La Criba de Eratóstenes. \n",
    "basado en https://github.com/fyulita"
   ]
  },
  {
   "cell_type": "code",
   "execution_count": 4,
   "metadata": {},
   "outputs": [
    {
     "name": "stdout",
     "output_type": "stream",
     "text": [
      "[2, 3, 5, 7, 11, 13, 17, 19, 23, 29, 31, 37, 41, 43, 47, 53, 59, 61, 67, 71, 73, 79, 83, 89, 97]\n"
     ]
    }
   ],
   "source": [
    "resultado = list(range(2, 101)) \n",
    "\n",
    "i = 0\n",
    "while i < len(resultado):\n",
    "    primo = resultado[i]\n",
    "    for numero in resultado[i + 1:]:\n",
    "        if numero % primo == 0:\n",
    "            resultado.remove(numero)\n",
    "    \n",
    "    i += 1\n",
    "\n",
    "print(resultado)"
   ]
  }
 ],
 "metadata": {
  "kernelspec": {
   "display_name": "Python 3",
   "language": "python",
   "name": "python3"
  },
  "language_info": {
   "codemirror_mode": {
    "name": "ipython",
    "version": 3
   },
   "file_extension": ".py",
   "mimetype": "text/x-python",
   "name": "python",
   "nbconvert_exporter": "python",
   "pygments_lexer": "ipython3",
   "version": "3.9.0"
  }
 },
 "nbformat": 4,
 "nbformat_minor": 4
}
