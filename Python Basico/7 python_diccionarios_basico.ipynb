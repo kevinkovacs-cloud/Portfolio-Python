{
 "cells": [
  {
   "cell_type": "markdown",
   "metadata": {},
   "source": [
    "# Python: Basico 7\n",
    "En este documento de Jupyter Notebook veremos DICCIONARIOS."
   ]
  },
  {
   "cell_type": "code",
   "execution_count": 1,
   "metadata": {},
   "outputs": [],
   "source": [
    "#Los diccionarios son un tipo de datos similares a las listas o strings.\n",
    "#Uno tiene definiciones para palabras y uno busca esa palabra."
   ]
  },
  {
   "cell_type": "code",
   "execution_count": 7,
   "metadata": {},
   "outputs": [
    {
     "name": "stdout",
     "output_type": "stream",
     "text": [
      "Es un lenguaje de programacion.\n",
      "Es otro lenguaje de programacion.\n"
     ]
    }
   ],
   "source": [
    "diccionario = {\n",
    "    \"Python\": \"Es un lenguaje de programacion.\",\n",
    "    \"R\": \"Es otro lenguaje de programacion.\"}\n",
    "print(diccionario[\"Python\"])\n",
    "print(diccionario[\"R\"])"
   ]
  },
  {
   "cell_type": "code",
   "execution_count": 10,
   "metadata": {},
   "outputs": [
    {
     "name": "stdout",
     "output_type": "stream",
     "text": [
      "Dinamico\n",
      "Guido van Rossum\n",
      "1991\n"
     ]
    }
   ],
   "source": [
    "Python = {\n",
    "    \"Sistema de tipos\": \"Dinamico\",\n",
    "    \"Diseñado por\": \"Guido van Rossum\",\n",
    "    \"Aparecio en\": \"1991\"}\n",
    "\n",
    "for key in Python:\n",
    "    print(Python[key])"
   ]
  },
  {
   "cell_type": "code",
   "execution_count": 12,
   "metadata": {},
   "outputs": [
    {
     "name": "stdout",
     "output_type": "stream",
     "text": [
      "Dinamico\n",
      "Guido van Rossum\n",
      "1991\n"
     ]
    }
   ],
   "source": [
    "for key in Python.values(): #otra forma de hacerlo\n",
    "    print(key)"
   ]
  },
  {
   "cell_type": "code",
   "execution_count": 13,
   "metadata": {},
   "outputs": [
    {
     "data": {
      "text/plain": [
       "'1991'"
      ]
     },
     "execution_count": 13,
     "metadata": {},
     "output_type": "execute_result"
    }
   ],
   "source": [
    "Python.pop(\"Aparecio en\")"
   ]
  },
  {
   "cell_type": "code",
   "execution_count": 14,
   "metadata": {},
   "outputs": [],
   "source": [
    "Python[\"Aparecio en\"] = 1992"
   ]
  },
  {
   "cell_type": "code",
   "execution_count": 15,
   "metadata": {},
   "outputs": [
    {
     "name": "stdout",
     "output_type": "stream",
     "text": [
      "Dinamico\n",
      "Guido van Rossum\n",
      "1992\n"
     ]
    }
   ],
   "source": [
    "for key in Python.values():\n",
    "    print(key)"
   ]
  },
  {
   "cell_type": "code",
   "execution_count": null,
   "metadata": {},
   "outputs": [],
   "source": []
  }
 ],
 "metadata": {
  "kernelspec": {
   "display_name": "Python 3",
   "language": "python",
   "name": "python3"
  },
  "language_info": {
   "codemirror_mode": {
    "name": "ipython",
    "version": 3
   },
   "file_extension": ".py",
   "mimetype": "text/x-python",
   "name": "python",
   "nbconvert_exporter": "python",
   "pygments_lexer": "ipython3",
   "version": "3.9.0"
  }
 },
 "nbformat": 4,
 "nbformat_minor": 4
}
