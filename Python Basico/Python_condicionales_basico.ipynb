{
 "cells": [
  {
   "cell_type": "markdown",
   "metadata": {},
   "source": [
    "# Python: Basico 2\n",
    "En este documento de Jupyter Notebook veremos Condicionales."
   ]
  },
  {
   "cell_type": "markdown",
   "metadata": {},
   "source": [
    "###### Python utiliza variables booleanas para evaluar condiciones.\n",
    "###### Para asignarle valor a una variable, usamos un solo '='\n",
    "###### Para comparar dos variables usamos '=='\n",
    "###### Para \"no igual\" usamos '!=\""
   ]
  },
  {
   "cell_type": "code",
   "execution_count": 6,
   "metadata": {},
   "outputs": [
    {
     "name": "stdout",
     "output_type": "stream",
     "text": [
      "True\n",
      "False\n",
      "True\n"
     ]
    }
   ],
   "source": [
    "x = 2\n",
    "print(x == 2) \n",
    "print(x == 3) \n",
    "print(x < 3) "
   ]
  },
  {
   "cell_type": "code",
   "execution_count": 5,
   "metadata": {},
   "outputs": [
    {
     "name": "stdout",
     "output_type": "stream",
     "text": [
      "Te llamas Jorge, y aparte tenes 23 años.\n",
      "Tus nombres son Jorge o Rick.\n"
     ]
    }
   ],
   "source": [
    "nombre = \"Jorge\"\n",
    "edad = 23\n",
    "if nombre == \"Jorge\" and edad == 23:\n",
    "    print(\"Te llamas Jorge, y aparte tenes 23 años.\")\n",
    "\n",
    "if nombre == \"Jorge\" or nombre == \"Rick\":\n",
    "    print(\"Tus nombres son Jorge o Rick.\")"
   ]
  },
  {
   "cell_type": "code",
   "execution_count": 4,
   "metadata": {},
   "outputs": [
    {
     "name": "stdout",
     "output_type": "stream",
     "text": [
      "Tus nombres son Jorge o Rick\n"
     ]
    }
   ],
   "source": [
    "nombre = \"Jorge\"\n",
    "if nombre in [\"Jorge\", \"Rick\"]:\n",
    "    print(\"Tus nombres son Jorge o Rick\")"
   ]
  },
  {
   "cell_type": "markdown",
   "metadata": {},
   "source": [
    "#### CONDICIONAL ELSE"
   ]
  },
  {
   "cell_type": "code",
   "execution_count": 7,
   "metadata": {},
   "outputs": [
    {
     "name": "stdout",
     "output_type": "stream",
     "text": [
      "a es menor que b\n"
     ]
    }
   ],
   "source": [
    "a= 4\n",
    "b= 5\n",
    "if a < b:\n",
    "    print(\"a es menor que b\")\n",
    "else:\n",
    "    print(\"a no es menor que b\")"
   ]
  },
  {
   "cell_type": "markdown",
   "metadata": {},
   "source": [
    "#### CONDICIONAL ELIF"
   ]
  },
  {
   "cell_type": "code",
   "execution_count": 9,
   "metadata": {},
   "outputs": [
    {
     "name": "stdout",
     "output_type": "stream",
     "text": [
      "a es igual a b\n"
     ]
    }
   ],
   "source": [
    "a=4\n",
    "b=4\n",
    "if a<b:\n",
    "    print(\"a es menor que b\")\n",
    "elif a==b:\n",
    "    print(\"a es igual a b\")\n",
    "else:\n",
    "    print(\"a no es menor que b\")"
   ]
  }
 ],
 "metadata": {
  "kernelspec": {
   "display_name": "Python 3",
   "language": "python",
   "name": "python3"
  },
  "language_info": {
   "codemirror_mode": {
    "name": "ipython",
    "version": 3
   },
   "file_extension": ".py",
   "mimetype": "text/x-python",
   "name": "python",
   "nbconvert_exporter": "python",
   "pygments_lexer": "ipython3",
   "version": "3.9.0"
  }
 },
 "nbformat": 4,
 "nbformat_minor": 4
}
